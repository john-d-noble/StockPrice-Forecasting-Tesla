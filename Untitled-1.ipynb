{
 "cells": [
  {
   "cell_type": "markdown",
   "metadata": {},
   "source": [
    "Stock Market Prediction using Machine Learning"
   ]
  },
  {
   "cell_type": "code",
   "execution_count": 3,
   "metadata": {},
   "outputs": [
    {
     "name": "stdout",
     "output_type": "stream",
     "text": [
      "Requirement already satisfied: yfinance in /opt/anaconda3/lib/python3.9/site-packages (0.1.70)\n",
      "Requirement already satisfied: multitasking>=0.0.7 in /opt/anaconda3/lib/python3.9/site-packages (from yfinance) (0.0.10)\n",
      "Requirement already satisfied: requests>=2.26 in /opt/anaconda3/lib/python3.9/site-packages (from yfinance) (2.26.0)\n",
      "Requirement already satisfied: numpy>=1.15 in /opt/anaconda3/lib/python3.9/site-packages (from yfinance) (1.20.3)\n",
      "Requirement already satisfied: pandas>=0.24.0 in /opt/anaconda3/lib/python3.9/site-packages (from yfinance) (1.3.4)\n",
      "Requirement already satisfied: lxml>=4.5.1 in /opt/anaconda3/lib/python3.9/site-packages (from yfinance) (4.6.3)\n",
      "Requirement already satisfied: python-dateutil>=2.7.3 in /opt/anaconda3/lib/python3.9/site-packages (from pandas>=0.24.0->yfinance) (2.8.2)\n",
      "Requirement already satisfied: pytz>=2017.3 in /opt/anaconda3/lib/python3.9/site-packages (from pandas>=0.24.0->yfinance) (2021.3)\n",
      "Requirement already satisfied: six>=1.5 in /opt/anaconda3/lib/python3.9/site-packages (from python-dateutil>=2.7.3->pandas>=0.24.0->yfinance) (1.16.0)\n",
      "Requirement already satisfied: charset-normalizer~=2.0.0 in /opt/anaconda3/lib/python3.9/site-packages (from requests>=2.26->yfinance) (2.0.4)\n",
      "Requirement already satisfied: urllib3<1.27,>=1.21.1 in /opt/anaconda3/lib/python3.9/site-packages (from requests>=2.26->yfinance) (1.26.7)\n",
      "Requirement already satisfied: idna<4,>=2.5 in /opt/anaconda3/lib/python3.9/site-packages (from requests>=2.26->yfinance) (3.2)\n",
      "Requirement already satisfied: certifi>=2017.4.17 in /opt/anaconda3/lib/python3.9/site-packages (from requests>=2.26->yfinance) (2021.10.8)\n"
     ]
    }
   ],
   "source": [
    "# Install yfinance and cartopy packages.\n",
    "!pip install yfinance\n",
    "\n",
    "\n",
    "# Import software libraries.\n",
    "import cartopy\n",
    "import pandas as pd\n",
    "import yfinance as yf\n",
    "import datetime\n",
    "import numpy as np\n",
    "import matplotlib.pyplot as plt"
   ]
  },
  {
   "cell_type": "code",
   "execution_count": 4,
   "metadata": {},
   "outputs": [],
   "source": [
    "# We will use the Yahoo! Finance Market Downloader to get data for  # Tesla stock.\n",
    "tesla = yf.download('TSLA',start='2020-01-07',  end='2021-01-07',progress=False)[['Close']]"
   ]
  },
  {
   "cell_type": "code",
   "execution_count": 5,
   "metadata": {},
   "outputs": [
    {
     "data": {
      "text/html": [
       "<div>\n",
       "<style scoped>\n",
       "    .dataframe tbody tr th:only-of-type {\n",
       "        vertical-align: middle;\n",
       "    }\n",
       "\n",
       "    .dataframe tbody tr th {\n",
       "        vertical-align: top;\n",
       "    }\n",
       "\n",
       "    .dataframe thead th {\n",
       "        text-align: right;\n",
       "    }\n",
       "</style>\n",
       "<table border=\"1\" class=\"dataframe\">\n",
       "  <thead>\n",
       "    <tr style=\"text-align: right;\">\n",
       "      <th></th>\n",
       "      <th>Close</th>\n",
       "    </tr>\n",
       "    <tr>\n",
       "      <th>Date</th>\n",
       "      <th></th>\n",
       "    </tr>\n",
       "  </thead>\n",
       "  <tbody>\n",
       "    <tr>\n",
       "      <th>2020-01-07</th>\n",
       "      <td>93.811996</td>\n",
       "    </tr>\n",
       "    <tr>\n",
       "      <th>2020-01-08</th>\n",
       "      <td>98.428001</td>\n",
       "    </tr>\n",
       "    <tr>\n",
       "      <th>2020-01-09</th>\n",
       "      <td>96.267998</td>\n",
       "    </tr>\n",
       "    <tr>\n",
       "      <th>2020-01-10</th>\n",
       "      <td>95.629997</td>\n",
       "    </tr>\n",
       "    <tr>\n",
       "      <th>2020-01-13</th>\n",
       "      <td>104.972000</td>\n",
       "    </tr>\n",
       "  </tbody>\n",
       "</table>\n",
       "</div>"
      ],
      "text/plain": [
       "                 Close\n",
       "Date                  \n",
       "2020-01-07   93.811996\n",
       "2020-01-08   98.428001\n",
       "2020-01-09   96.267998\n",
       "2020-01-10   95.629997\n",
       "2020-01-13  104.972000"
      ]
     },
     "execution_count": 5,
     "metadata": {},
     "output_type": "execute_result"
    }
   ],
   "source": [
    "# Print the first 5 rows.\n",
    "tesla.head(5)"
   ]
  },
  {
   "cell_type": "code",
   "execution_count": 8,
   "metadata": {},
   "outputs": [
    {
     "name": "stdout",
     "output_type": "stream",
     "text": [
      "<class 'pandas.core.frame.DataFrame'>\n",
      "DatetimeIndex: 253 entries, 2020-01-07 to 2021-01-06\n",
      "Data columns (total 1 columns):\n",
      " #   Column  Non-Null Count  Dtype  \n",
      "---  ------  --------------  -----  \n",
      " 0   Close   253 non-null    float64\n",
      "dtypes: float64(1)\n",
      "memory usage: 4.0 KB\n"
     ]
    }
   ],
   "source": [
    "# Show information about the data. \n",
    "tesla.info()"
   ]
  },
  {
   "cell_type": "code",
   "execution_count": 9,
   "metadata": {},
   "outputs": [
    {
     "data": {
      "text/html": [
       "<div>\n",
       "<style scoped>\n",
       "    .dataframe tbody tr th:only-of-type {\n",
       "        vertical-align: middle;\n",
       "    }\n",
       "\n",
       "    .dataframe tbody tr th {\n",
       "        vertical-align: top;\n",
       "    }\n",
       "\n",
       "    .dataframe thead th {\n",
       "        text-align: right;\n",
       "    }\n",
       "</style>\n",
       "<table border=\"1\" class=\"dataframe\">\n",
       "  <thead>\n",
       "    <tr style=\"text-align: right;\">\n",
       "      <th></th>\n",
       "      <th>actual_stock_price</th>\n",
       "      <th>1</th>\n",
       "      <th>2</th>\n",
       "      <th>3</th>\n",
       "      <th>4</th>\n",
       "      <th>5</th>\n",
       "      <th>6</th>\n",
       "      <th>7</th>\n",
       "      <th>8</th>\n",
       "      <th>9</th>\n",
       "      <th>10</th>\n",
       "    </tr>\n",
       "    <tr>\n",
       "      <th>Date</th>\n",
       "      <th></th>\n",
       "      <th></th>\n",
       "      <th></th>\n",
       "      <th></th>\n",
       "      <th></th>\n",
       "      <th></th>\n",
       "      <th></th>\n",
       "      <th></th>\n",
       "      <th></th>\n",
       "      <th></th>\n",
       "      <th></th>\n",
       "    </tr>\n",
       "  </thead>\n",
       "  <tbody>\n",
       "    <tr>\n",
       "      <th>2020-01-22</th>\n",
       "      <td>113.912003</td>\n",
       "      <td>109.440002</td>\n",
       "      <td>102.099998</td>\n",
       "      <td>102.697998</td>\n",
       "      <td>103.699997</td>\n",
       "      <td>107.584000</td>\n",
       "      <td>104.972000</td>\n",
       "      <td>95.629997</td>\n",
       "      <td>96.267998</td>\n",
       "      <td>98.428001</td>\n",
       "      <td>93.811996</td>\n",
       "    </tr>\n",
       "    <tr>\n",
       "      <th>2020-01-23</th>\n",
       "      <td>114.440002</td>\n",
       "      <td>113.912003</td>\n",
       "      <td>109.440002</td>\n",
       "      <td>102.099998</td>\n",
       "      <td>102.697998</td>\n",
       "      <td>103.699997</td>\n",
       "      <td>107.584000</td>\n",
       "      <td>104.972000</td>\n",
       "      <td>95.629997</td>\n",
       "      <td>96.267998</td>\n",
       "      <td>98.428001</td>\n",
       "    </tr>\n",
       "    <tr>\n",
       "      <th>2020-01-24</th>\n",
       "      <td>112.963997</td>\n",
       "      <td>114.440002</td>\n",
       "      <td>113.912003</td>\n",
       "      <td>109.440002</td>\n",
       "      <td>102.099998</td>\n",
       "      <td>102.697998</td>\n",
       "      <td>103.699997</td>\n",
       "      <td>107.584000</td>\n",
       "      <td>104.972000</td>\n",
       "      <td>95.629997</td>\n",
       "      <td>96.267998</td>\n",
       "    </tr>\n",
       "    <tr>\n",
       "      <th>2020-01-27</th>\n",
       "      <td>111.603996</td>\n",
       "      <td>112.963997</td>\n",
       "      <td>114.440002</td>\n",
       "      <td>113.912003</td>\n",
       "      <td>109.440002</td>\n",
       "      <td>102.099998</td>\n",
       "      <td>102.697998</td>\n",
       "      <td>103.699997</td>\n",
       "      <td>107.584000</td>\n",
       "      <td>104.972000</td>\n",
       "      <td>95.629997</td>\n",
       "    </tr>\n",
       "    <tr>\n",
       "      <th>2020-01-28</th>\n",
       "      <td>113.379997</td>\n",
       "      <td>111.603996</td>\n",
       "      <td>112.963997</td>\n",
       "      <td>114.440002</td>\n",
       "      <td>113.912003</td>\n",
       "      <td>109.440002</td>\n",
       "      <td>102.099998</td>\n",
       "      <td>102.697998</td>\n",
       "      <td>103.699997</td>\n",
       "      <td>107.584000</td>\n",
       "      <td>104.972000</td>\n",
       "    </tr>\n",
       "  </tbody>\n",
       "</table>\n",
       "</div>"
      ],
      "text/plain": [
       "            actual_stock_price           1           2           3  \\\n",
       "Date                                                                 \n",
       "2020-01-22          113.912003  109.440002  102.099998  102.697998   \n",
       "2020-01-23          114.440002  113.912003  109.440002  102.099998   \n",
       "2020-01-24          112.963997  114.440002  113.912003  109.440002   \n",
       "2020-01-27          111.603996  112.963997  114.440002  113.912003   \n",
       "2020-01-28          113.379997  111.603996  112.963997  114.440002   \n",
       "\n",
       "                     4           5           6           7           8  \\\n",
       "Date                                                                     \n",
       "2020-01-22  103.699997  107.584000  104.972000   95.629997   96.267998   \n",
       "2020-01-23  102.697998  103.699997  107.584000  104.972000   95.629997   \n",
       "2020-01-24  102.099998  102.697998  103.699997  107.584000  104.972000   \n",
       "2020-01-27  109.440002  102.099998  102.697998  103.699997  107.584000   \n",
       "2020-01-28  113.912003  109.440002  102.099998  102.697998  103.699997   \n",
       "\n",
       "                     9          10  \n",
       "Date                                \n",
       "2020-01-22   98.428001   93.811996  \n",
       "2020-01-23   96.267998   98.428001  \n",
       "2020-01-24   95.629997   96.267998  \n",
       "2020-01-27  104.972000   95.629997  \n",
       "2020-01-28  107.584000  104.972000  "
      ]
     },
     "execution_count": 9,
     "metadata": {},
     "output_type": "execute_result"
    }
   ],
   "source": [
    "tesla = pd.concat([tesla, tesla.shift(), tesla.shift(2),tesla.shift(3),tesla.shift(4),tesla.shift(5),\n",
    "           tesla.shift(6),tesla.shift(7),tesla.shift(8),tesla.shift(9),tesla.shift(10)], axis=1).dropna() \n",
    "tesla.columns = list(range(0,11))\n",
    "tesla.rename(columns={0:'actual_stock_price'},inplace=True)\n",
    "tesla.head()"
   ]
  },
  {
   "cell_type": "code",
   "execution_count": 10,
   "metadata": {},
   "outputs": [],
   "source": [
    "# Split the data into training and test data sets. \n",
    "train = tesla.head(len(tesla)-10)\n",
    "test = tesla.tail(10)"
   ]
  },
  {
   "cell_type": "code",
   "execution_count": 11,
   "metadata": {},
   "outputs": [
    {
     "name": "stderr",
     "output_type": "stream",
     "text": [
      "/var/folders/50/hl_dymcd4sd7l6g5mb473brw0000gn/T/ipykernel_11869/2752997034.py:9: SettingWithCopyWarning: \n",
      "A value is trying to be set on a copy of a slice from a DataFrame.\n",
      "Try using .loc[row_indexer,col_indexer] = value instead\n",
      "\n",
      "See the caveats in the documentation: https://pandas.pydata.org/pandas-docs/stable/user_guide/indexing.html#returning-a-view-versus-a-copy\n",
      "  test['predictions'] = LR.predict(test[list(range(1,11))])\n"
     ]
    }
   ],
   "source": [
    "# Import the Lineear Regression model from scikit-learn.\n",
    "from sklearn.linear_model import LinearRegression# Create the model object.\n",
    "LR = LinearRegression()\n",
    "\n",
    "# Train the model on the training data.\n",
    "LR.fit(train[list(range(1,11))],train['actual_stock_price'])\n",
    "\n",
    "# Make predictions on the test data.\n",
    "test['predictions'] = LR.predict(test[list(range(1,11))])"
   ]
  },
  {
   "cell_type": "code",
   "execution_count": 12,
   "metadata": {},
   "outputs": [
    {
     "data": {
      "text/plain": [
       "<Figure size 864x504 with 0 Axes>"
      ]
     },
     "metadata": {},
     "output_type": "display_data"
    },
    {
     "data": {
      "image/png": "[encoded data removed]",
      "text/plain": [
       "<Figure size 864x576 with 1 Axes>"
      ]
     },
     "metadata": {
      "needs_background": "light"
     },
     "output_type": "display_data"
    }
   ],
   "source": [
    "# Visualize the actual stock price and the predicted stock price    # over the time period.\n",
    "plt.figure(figsize=(12,7))\n",
    "ax = test[['actual_stock_price','predictions']].plot(figsize=(12,8))\n",
    "plt.xlabel('Date', fontsize=12)\n",
    "plt.ylabel('Stock Price', fontsize=12)\n",
    "plt.title('Actual and Predicted Stock Prices', fontsize=15)\n",
    "plt.grid()\n",
    "plt.show()"
   ]
  }
 ],
 "metadata": {
  "interpreter": {
   "hash": "40d3a090f54c6569ab1632332b64b2c03c39dcf918b08424e98f38b5ae0af88f"
  },
  "kernelspec": {
   "display_name": "Python 3.9.7 ('base')",
   "language": "python",
   "name": "python3"
  },
  "language_info": {
   "codemirror_mode": {
    "name": "ipython",
    "version": 3
   },
   "file_extension": ".py",
   "mimetype": "text/x-python",
   "name": "python",
   "nbconvert_exporter": "python",
   "pygments_lexer": "ipython3",
   "version": "3.9.7"
  },
  "orig_nbformat": 4
 },
 "nbformat": 4,
 "nbformat_minor": 2
}
